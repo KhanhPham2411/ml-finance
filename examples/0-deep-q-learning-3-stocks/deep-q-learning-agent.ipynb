{
  "nbformat": 4,
  "nbformat_minor": 0,
  "metadata": {
    "kernelspec": {
      "display_name": "Python 3",
      "language": "python",
      "name": "python3"
    },
    "language_info": {
      "codemirror_mode": {
        "name": "ipython",
        "version": 3
      },
      "file_extension": ".py",
      "mimetype": "text/x-python",
      "name": "python",
      "nbconvert_exporter": "python",
      "pygments_lexer": "ipython3",
      "version": "3.7.4"
    },
    "colab": {
      "name": "deep-q-learning-agent.ipynb",
      "provenance": [],
      "toc_visible": true
    },
    "accelerator": "GPU"
  },
  "cells": [
    {
      "cell_type": "code",
      "metadata": {
        "id": "QmArytkvScDG",
        "colab_type": "code",
        "colab": {}
      },
      "source": [
        "!wget https://github.com/KhanhPham2411/ml-finance/archive/master.zip"
      ],
      "execution_count": null,
      "outputs": []
    },
    {
      "cell_type": "code",
      "metadata": {
        "id": "k5c9V-ECSkI6",
        "colab_type": "code",
        "colab": {}
      },
      "source": [
        "!unzip master.zip"
      ],
      "execution_count": null,
      "outputs": []
    },
    {
      "cell_type": "code",
      "metadata": {
        "id": "-iu5TfgySpXx",
        "colab_type": "code",
        "colab": {
          "base_uri": "https://localhost:8080/",
          "height": 34
        },
        "outputId": "90ca2af1-cb20-44e5-8f2e-b56a46c24eeb"
      },
      "source": [
        "cd ml-finance-master/examples/0-deep-q-learning-3-stocks/"
      ],
      "execution_count": 5,
      "outputs": [
        {
          "output_type": "stream",
          "text": [
            "/content/ml-finance-master/examples/0-deep-q-learning-3-stocks\n"
          ],
          "name": "stdout"
        }
      ]
    },
    {
      "cell_type": "code",
      "metadata": {
        "id": "Ryvp7TdHSRkb",
        "colab_type": "code",
        "colab": {
          "base_uri": "https://localhost:8080/",
          "height": 363
        },
        "outputId": "f4dd1efd-eb8e-45b5-b5a6-2e3fe566b80b"
      },
      "source": [
        "import pickle\n",
        "import time\n",
        "import numpy as np\n",
        "import re\n",
        "import matplotlib.pyplot as plt\n",
        "import pandas as pd\n",
        "import glob\n",
        "import os\n",
        "from statistics import median\n",
        "\n",
        "from envs import TradingEnv\n",
        "from agent import DQNAgent\n",
        "from utils import get_data, get_scaler\n",
        "\n",
        "# Auto reload\n",
        "%load_ext autoreload\n",
        "%autoreload 2"
      ],
      "execution_count": 1,
      "outputs": [
        {
          "output_type": "error",
          "ename": "ModuleNotFoundError",
          "evalue": "ignored",
          "traceback": [
            "\u001b[0;31m---------------------------------------------------------------------------\u001b[0m",
            "\u001b[0;31mModuleNotFoundError\u001b[0m                       Traceback (most recent call last)",
            "\u001b[0;32m<ipython-input-1-3b1ade19e883>\u001b[0m in \u001b[0;36m<module>\u001b[0;34m()\u001b[0m\n\u001b[1;32m      9\u001b[0m \u001b[0;32mfrom\u001b[0m \u001b[0mstatistics\u001b[0m \u001b[0;32mimport\u001b[0m \u001b[0mmedian\u001b[0m\u001b[0;34m\u001b[0m\u001b[0;34m\u001b[0m\u001b[0m\n\u001b[1;32m     10\u001b[0m \u001b[0;34m\u001b[0m\u001b[0m\n\u001b[0;32m---> 11\u001b[0;31m \u001b[0;32mfrom\u001b[0m \u001b[0menvs\u001b[0m \u001b[0;32mimport\u001b[0m \u001b[0mTradingEnv\u001b[0m\u001b[0;34m\u001b[0m\u001b[0;34m\u001b[0m\u001b[0m\n\u001b[0m\u001b[1;32m     12\u001b[0m \u001b[0;32mfrom\u001b[0m \u001b[0magent\u001b[0m \u001b[0;32mimport\u001b[0m \u001b[0mDQNAgent\u001b[0m\u001b[0;34m\u001b[0m\u001b[0;34m\u001b[0m\u001b[0m\n\u001b[1;32m     13\u001b[0m \u001b[0;32mfrom\u001b[0m \u001b[0mutils\u001b[0m \u001b[0;32mimport\u001b[0m \u001b[0mget_data\u001b[0m\u001b[0;34m,\u001b[0m \u001b[0mget_scaler\u001b[0m\u001b[0;34m\u001b[0m\u001b[0;34m\u001b[0m\u001b[0m\n",
            "\u001b[0;31mModuleNotFoundError\u001b[0m: No module named 'envs'",
            "",
            "\u001b[0;31m---------------------------------------------------------------------------\u001b[0;32m\nNOTE: If your import is failing due to a missing package, you can\nmanually install dependencies using either !pip or !apt.\n\nTo view examples of installing some common dependencies, click the\n\"Open Examples\" button below.\n\u001b[0;31m---------------------------------------------------------------------------\u001b[0m\n"
          ]
        }
      ]
    },
    {
      "cell_type": "code",
      "metadata": {
        "id": "yroyFnxzSRkh",
        "colab_type": "code",
        "colab": {
          "base_uri": "https://localhost:8080/",
          "height": 195
        },
        "outputId": "4713f8b3-dfc1-4b12-f172-e7887022b5f5"
      },
      "source": [
        "data = np.around(get_data())\n",
        "train_data = data[:, :3526]\n",
        "test_data = data[:, 3526:]"
      ],
      "execution_count": 2,
      "outputs": [
        {
          "output_type": "error",
          "ename": "NameError",
          "evalue": "ignored",
          "traceback": [
            "\u001b[0;31m---------------------------------------------------------------------------\u001b[0m",
            "\u001b[0;31mNameError\u001b[0m                                 Traceback (most recent call last)",
            "\u001b[0;32m<ipython-input-2-817e4d7ef2e7>\u001b[0m in \u001b[0;36m<module>\u001b[0;34m()\u001b[0m\n\u001b[0;32m----> 1\u001b[0;31m \u001b[0mdata\u001b[0m \u001b[0;34m=\u001b[0m \u001b[0mnp\u001b[0m\u001b[0;34m.\u001b[0m\u001b[0maround\u001b[0m\u001b[0;34m(\u001b[0m\u001b[0mget_data\u001b[0m\u001b[0;34m(\u001b[0m\u001b[0;34m)\u001b[0m\u001b[0;34m)\u001b[0m\u001b[0;34m\u001b[0m\u001b[0;34m\u001b[0m\u001b[0m\n\u001b[0m\u001b[1;32m      2\u001b[0m \u001b[0mtrain_data\u001b[0m \u001b[0;34m=\u001b[0m \u001b[0mdata\u001b[0m\u001b[0;34m[\u001b[0m\u001b[0;34m:\u001b[0m\u001b[0;34m,\u001b[0m \u001b[0;34m:\u001b[0m\u001b[0;36m3526\u001b[0m\u001b[0;34m]\u001b[0m\u001b[0;34m\u001b[0m\u001b[0;34m\u001b[0m\u001b[0m\n\u001b[1;32m      3\u001b[0m \u001b[0mtest_data\u001b[0m \u001b[0;34m=\u001b[0m \u001b[0mdata\u001b[0m\u001b[0;34m[\u001b[0m\u001b[0;34m:\u001b[0m\u001b[0;34m,\u001b[0m \u001b[0;36m3526\u001b[0m\u001b[0;34m:\u001b[0m\u001b[0;34m]\u001b[0m\u001b[0;34m\u001b[0m\u001b[0;34m\u001b[0m\u001b[0m\n",
            "\u001b[0;31mNameError\u001b[0m: name 'get_data' is not defined"
          ]
        }
      ]
    },
    {
      "cell_type": "code",
      "metadata": {
        "id": "kOoyesF4SRkk",
        "colab_type": "code",
        "colab": {}
      },
      "source": [
        "fig = plt.figure()\n",
        "plt.plot(train_data.flatten())\n",
        "fig.suptitle('train_data', fontsize=20)\n",
        "fig = plt.figure()\n",
        "plt.plot(test_data.flatten())\n",
        "fig.suptitle('test_data', fontsize=20)\n",
        "plt.show()"
      ],
      "execution_count": null,
      "outputs": []
    },
    {
      "cell_type": "code",
      "metadata": {
        "id": "5wc97HcsSRkn",
        "colab_type": "code",
        "colab": {}
      },
      "source": [
        "episode=2000\n",
        "batch_size=32\n",
        "initial_invest=20000"
      ],
      "execution_count": null,
      "outputs": []
    },
    {
      "cell_type": "code",
      "metadata": {
        "id": "edAE-R4OSRkt",
        "colab_type": "code",
        "colab": {}
      },
      "source": [
        "env = TradingEnv(train_data, initial_invest)\n",
        "state_size = env.observation_space.shape\n",
        "action_size = env.action_space.n\n",
        "agent = DQNAgent(state_size, action_size)\n",
        "scaler = get_scaler(env)\n",
        "train_results = pd.DataFrame()"
      ],
      "execution_count": null,
      "outputs": []
    },
    {
      "cell_type": "markdown",
      "metadata": {
        "id": "igCe4M32SRkw",
        "colab_type": "text"
      },
      "source": [
        "## Train"
      ]
    },
    {
      "cell_type": "code",
      "metadata": {
        "scrolled": true,
        "id": "uBraBFPoSRkw",
        "colab_type": "code",
        "colab": {}
      },
      "source": [
        "for e in range(episode):\n",
        "    state = env.reset()\n",
        "    state = scaler.transform([state])\n",
        "    for i in range(env.n_step):\n",
        "        action = agent.act(state)\n",
        "        next_state, reward, done = env.step(action)\n",
        "        next_state = scaler.transform([next_state])\n",
        "        agent.remember(state, action, reward, next_state, done)\n",
        "        state = next_state\n",
        "        if done:\n",
        "            print(\".\", end='')\n",
        "            if (e + 1) % 20 == 0:\n",
        "                print(\"\")\n",
        "                print(\"episode: {}/{}, median profit so far: {}\".format(\n",
        "                    e + 1, episode, median(train_results['value'].tolist())))\n",
        "            train_results = train_results.append(env._stats(), ignore_index=True)\n",
        "            break\n",
        "        if len(agent.memory) > batch_size:\n",
        "            agent.replay(batch_size)\n",
        "    if (e + 1) % 10 == 0:\n",
        "        agent.save('weights/{}-dqn.h5'.format(time.strftime('%Y%m%d%H%M')))"
      ],
      "execution_count": null,
      "outputs": []
    },
    {
      "cell_type": "code",
      "metadata": {
        "id": "bHzJ02CpSRkz",
        "colab_type": "code",
        "colab": {}
      },
      "source": [
        "train_results['profit'] = train_results['value'] - initial_invest\n",
        "columns_to_plot = ['win_loss_ratio', 'profit', 'trade_count']\n",
        "fig, axes = plt.subplots(nrows=1,ncols=len(columns_to_plot), figsize=(16,6))\n",
        "for i in range(len(columns_to_plot)):\n",
        "    axes[i].title.set_text(columns_to_plot[i])\n",
        "    train_results[columns_to_plot[i]].plot(ax=axes[i], subplots=True)\n",
        "plt.show()"
      ],
      "execution_count": null,
      "outputs": []
    },
    {
      "cell_type": "markdown",
      "metadata": {
        "id": "_VYne7UXSRk2",
        "colab_type": "text"
      },
      "source": [
        "## Test"
      ]
    },
    {
      "cell_type": "code",
      "metadata": {
        "id": "RMUs1Bp6SRk3",
        "colab_type": "code",
        "colab": {}
      },
      "source": [
        "state_size = env.observation_space.shape\n",
        "action_size = env.action_space.n\n",
        "agent = DQNAgent(state_size, action_size)\n",
        "scaler = get_scaler(env)\n",
        "test_portfolio_value = []"
      ],
      "execution_count": null,
      "outputs": []
    },
    {
      "cell_type": "code",
      "metadata": {
        "id": "lYp3DW63SRk6",
        "colab_type": "code",
        "colab": {}
      },
      "source": [
        "# remake the env with test data\n",
        "env = TradingEnv(test_data, initial_invest)\n",
        "# load trained weights from latest saved\n",
        "latest_weights_file = max(glob.glob('weights/*.h5'), key=os.path.getctime)\n",
        "print('loading weights file: {0}'.format(latest_weights_file))\n",
        "agent.load(latest_weights_file)\n",
        "test_results = pd.DataFrame()"
      ],
      "execution_count": null,
      "outputs": []
    },
    {
      "cell_type": "code",
      "metadata": {
        "scrolled": false,
        "id": "kI6RsnTSSRk8",
        "colab_type": "code",
        "colab": {}
      },
      "source": [
        "for e in range(episode):\n",
        "    state = env.reset()\n",
        "    state = scaler.transform([state])\n",
        "    for i in range(env.n_step):\n",
        "        action = agent.act(state)\n",
        "        next_state, reward, done = env.step(action)\n",
        "        next_state = scaler.transform([next_state])\n",
        "        state = next_state\n",
        "        if done:\n",
        "            test_results = test_results.append(env._stats(), ignore_index=True)\n",
        "            break"
      ],
      "execution_count": null,
      "outputs": []
    },
    {
      "cell_type": "code",
      "metadata": {
        "id": "uPB-JweKSRk-",
        "colab_type": "code",
        "colab": {}
      },
      "source": [
        "test_results['profit'] = test_results['value'] - initial_invest"
      ],
      "execution_count": null,
      "outputs": []
    },
    {
      "cell_type": "code",
      "metadata": {
        "id": "ZdH-ALmESRlC",
        "colab_type": "code",
        "colab": {}
      },
      "source": [
        "print('Median profit: {0} ({1}%)'.format(\n",
        "    test_results['profit'].median(),\n",
        "    test_results['profit'].median() / initial_invest * 100\n",
        "))"
      ],
      "execution_count": null,
      "outputs": []
    },
    {
      "cell_type": "code",
      "metadata": {
        "id": "JVpyOHIqSRlE",
        "colab_type": "code",
        "colab": {}
      },
      "source": [
        "test_results.hist(column='profit', bins=60)"
      ],
      "execution_count": null,
      "outputs": []
    },
    {
      "cell_type": "code",
      "metadata": {
        "id": "5Yj_IkRlSRlG",
        "colab_type": "code",
        "colab": {}
      },
      "source": [
        ""
      ],
      "execution_count": null,
      "outputs": []
    }
  ]
}